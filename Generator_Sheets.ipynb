{
 "cells": [
  {
   "cell_type": "markdown",
   "metadata": {},
   "source": [
    "## Generates Weight Sheets\n",
    "#### Work by [Gonçalo Sousa](https://github.com/Sousa1909) for [AJDS](https://github.com/AJD-Santarem)  \n",
    "\n",
    "---"
   ]
  },
  {
   "cell_type": "markdown",
   "metadata": {},
   "source": [
    "Initial imports and Input folder creation"
   ]
  },
  {
   "cell_type": "code",
   "execution_count": 151,
   "metadata": {},
   "outputs": [],
   "source": [
    "import pandas as pd\n",
    "import pdfkit\n",
    "import json\n",
    "import base64\n",
    "import os\n",
    "\n",
    "# Create Input Folder if it doesn't exist\n",
    "if not os.path.exists(\"Input\"):\n",
    "    os.makedirs(\"Input\")\n",
    "    print(\"Input folder does not exist. Generating...\")"
   ]
  },
  {
   "cell_type": "markdown",
   "metadata": {},
   "source": [
    "File Read and initial data treatment"
   ]
  },
  {
   "cell_type": "code",
   "execution_count": null,
   "metadata": {},
   "outputs": [],
   "source": [
    "# Read the Excel file without skipping rows\n",
    "df = pd.read_excel('REPLACE_ME.xlsx', header=None)\n",
    "\n",
    "# Names for the output PDFs\n",
    "tournament_code = \"REPLACE_ME\"\n",
    "\n",
    "# Drop the first row ( TITLE )\n",
    "df = df.drop(index=[0])\n",
    "\n",
    "# Set new column names\n",
    "df.columns = ['NAME', 'WGT_CAT', 'CLUB', 'COUNTRY']\n",
    "\n",
    "# Sort by CLUB (ascending) and WGT_CAT (descending)\n",
    "df = df.sort_values(by=['COUNTRY', 'CLUB', 'WGT_CAT'], ascending=[True, True, True])\n",
    "\n",
    "#df"
   ]
  },
  {
   "cell_type": "markdown",
   "metadata": {},
   "source": [
    "Determining each athlete's gender according to their Weight Category"
   ]
  },
  {
   "cell_type": "code",
   "execution_count": 153,
   "metadata": {},
   "outputs": [],
   "source": [
    "# Determine Gender based on Weight Category\n",
    "def determine_gender(row):\n",
    "    masculine_categories = [\"- 38 Kg\", \"- 42 Kg\", \"- 46 Kg\", \"- 50 Kg\", \"- 55 Kg\", \"- 60 Kg\", \"- 66 Kg\", \"- 73 Kg\", \"- 81 Kg\", \"+ 81 Kg\", \"- 90 Kg\", \"+ 90 Kg\", \"- 100 Kg\", \"+ 100 Kg\"]\n",
    "    if row['WGT_CAT'] in masculine_categories:\n",
    "        return 'MASC'\n",
    "    else:\n",
    "        return 'FEM'\n",
    "    \n",
    "df['GENDER'] = df.apply(determine_gender, axis=1)\n",
    "\n",
    "# Insert the 'GENDER' column as the second column\n",
    "df.insert(1, 'GENDER', df.pop('GENDER'))\n",
    "\n",
    "#df"
   ]
  },
  {
   "cell_type": "markdown",
   "metadata": {},
   "source": [
    "Separate Masculine and Feminine athletes into two separate DataFrames"
   ]
  },
  {
   "cell_type": "code",
   "execution_count": null,
   "metadata": {},
   "outputs": [],
   "source": [
    "# Create separate DataFrames for masculine and feminine athletes\n",
    "masculine_df = df[df['GENDER'] == 'MASC']\n",
    "feminine_df = df[df['GENDER'] == 'FEM']\n",
    "\n",
    "# Create a dictionary to store athletes for each club\n",
    "def create_club_dict(athletes):\n",
    "    club_athletes = {}\n",
    "    for club in athletes['CLUB'].unique():\n",
    "        club_athletes[club] = athletes[athletes['CLUB'] == club]\n",
    "    return club_athletes\n",
    "\n",
    "masculine_club_athletes = create_club_dict(masculine_df)\n",
    "feminine_club_athletes = create_club_dict(feminine_df)\n",
    "\n",
    "total_masculine_athletes = sum(len(athletes) for athletes in masculine_club_athletes.values())\n",
    "total_feminine_athletes = sum(len(athletes) for athletes in feminine_club_athletes.values())\n",
    "total_athletes = total_masculine_athletes + total_feminine_athletes\n",
    "\n",
    "print(f\"\"\"\n",
    "Inscritos:\n",
    "      Masculinos:   {total_masculine_athletes}\n",
    "      Femininos:    {total_feminine_athletes}\n",
    "      Total:        {total_athletes}\n",
    "\"\"\")\n",
    "\n",
    "#masculine_club_athletes\n",
    "#feminine_club_athletes"
   ]
  },
  {
   "cell_type": "markdown",
   "metadata": {},
   "source": [
    "Load Club information"
   ]
  },
  {
   "cell_type": "code",
   "execution_count": 155,
   "metadata": {},
   "outputs": [],
   "source": [
    "# Load the JSON data\n",
    "with open('clubs.json') as f:\n",
    "    clubs_data = json.load(f)\n",
    "\n",
    "# Create a dictionary from the JSON data\n",
    "clubs_dict = {club['initials']: {'full_name': club['full_name'], 'image': club['image']} for club in clubs_data['clubs']}"
   ]
  },
  {
   "cell_type": "markdown",
   "metadata": {},
   "source": [
    "Table Template"
   ]
  },
  {
   "cell_type": "code",
   "execution_count": 156,
   "metadata": {},
   "outputs": [],
   "source": [
    "# Define the HTML template for club and athlete information\n",
    "template = \"\"\"\n",
    "<!DOCTYPE html>\n",
    "<html>\n",
    "<head>\n",
    "    <style>\n",
    "        table {{\n",
    "            border-collapse: collapse;\n",
    "            width: 100%;\n",
    "            margin-bottom: 50px;\n",
    "            page-break-inside: avoid;\n",
    "        }}\n",
    "        th, td {{\n",
    "            border: 1px solid black;\n",
    "            text-align: center;\n",
    "        }}\n",
    "        th {{\n",
    "            background-color: #f2f2f2;\n",
    "            font-size: 15px;\n",
    "        }}\n",
    "        .td_name {{\n",
    "            //text-align: left;\n",
    "            font-size: 13px;\n",
    "        }}\n",
    "        .width_fix {{\n",
    "            width: 90px;\n",
    "        }}\n",
    "        img {{\n",
    "            max-width: 120px;\n",
    "            height: 100px;\n",
    "            margin: 5px;\n",
    "        }}\n",
    "        .checkbox {{\n",
    "            font-size: 24px;\n",
    "        }}\n",
    "    </style>\n",
    "</head>\n",
    "<body>\n",
    "    <table>\n",
    "        <tr>\n",
    "            <th>{emblem}</th>\n",
    "            <th colspan=\"8\" style=\"text-align: left; padding-left: 12px; font-size: 19px;\">{fullname}</th>\n",
    "        </tr>\n",
    "        <tr>\n",
    "            <th>Nome do Atleta</th>\n",
    "            <th style=\"width: 120px\">Categoria de Inscrição</th>\n",
    "            <th class=\"width_fix\">Presente</th>\n",
    "            <th class=\"width_fix\">Peso Atual</th>\n",
    "            <th class=\"width_fix\">Mantém Categoria</th>\n",
    "            <th class=\"width_fix\">Sobe Categoria</th>\n",
    "            <th class=\"width_fix\">Desce Categoria</th>\n",
    "            <th class=\"width_fix\">Nova Categoria</th>\n",
    "        </tr>\n",
    "        {rows}\n",
    "    </table>\n",
    "</body>\n",
    "</html>\n",
    "\"\"\""
   ]
  },
  {
   "cell_type": "markdown",
   "metadata": {},
   "source": [
    "Run process\n",
    "\n",
    "Might be necessary to run:\n",
    "```shell\n",
    "sudo chmod 0700 /run/user/1000/\n",
    "```"
   ]
  },
  {
   "cell_type": "code",
   "execution_count": null,
   "metadata": {},
   "outputs": [],
   "source": [
    "# Function to generate PDF for each club\n",
    "missing_clubs = []\n",
    "def generate_club_pdf(club_athletes, filename):\n",
    "    \n",
    "    options = {\n",
    "        'encoding': \"UTF-8\",\n",
    "        'page-size': 'A4',\n",
    "        'orientation': 'Portrait',\n",
    "        'margin-top': '0.75in',\n",
    "        'margin-right': '0.5in',\n",
    "        'margin-bottom': '0.75in',\n",
    "        'margin-left': '0.5in',\n",
    "    }\n",
    "\n",
    "    pdf_content = []\n",
    "    for club, athletes in club_athletes.items():\n",
    "        # Check if the club exists in the clubs_dict using its full name\n",
    "        club_info = None\n",
    "        for info in clubs_dict.values():\n",
    "            if info['full_name'].upper() == club.upper():\n",
    "                club_info = info\n",
    "                break\n",
    "\n",
    "        # If the club is not found using its full name, fallback to using initials\n",
    "        if not club_info:\n",
    "            club_info = clubs_dict.get(club)\n",
    "\n",
    "        # Use the club information if found\n",
    "        if club_info:\n",
    "            club_name = club_info['full_name']\n",
    "            if club_info['image'] is not None and club_info['image'] != '':\n",
    "                club_image_path = club_info['image']\n",
    "            else:\n",
    "                club_image_path = \"imgClubs/placeholder.jpg\"\n",
    "        else:\n",
    "            # If club_info is None, track the missing club\n",
    "            missing_clubs.append(club)\n",
    "            club_name = club  # Use initials if full name not found\n",
    "            club_image_path = \"imgClubs/placeholder.jpg\"\n",
    "\n",
    "        # Convert image to base64 encoding\n",
    "        img_data = ''\n",
    "        if club_image_path is not None:\n",
    "            try:\n",
    "                with open(club_image_path, 'rb') as f:\n",
    "                    img_data = base64.b64encode(f.read()).decode('utf-8')\n",
    "                    img_tag = f'<img src=\"data:image/jpeg;base64,{img_data}\">' if img_data else ''\n",
    "                    emblem = f\"{img_tag}\"\n",
    "            except FileNotFoundError:\n",
    "                # Handle the case where the image file is not found\n",
    "                print(f\"Warning: Image file '{club_image_path}' not found for club '{club_name}'\")\n",
    "                club_image_path = None  # Set club_image_path to None to prevent further processing\n",
    "\n",
    "        fullname = f\"{club_name}\"\n",
    "\n",
    "        # Generate HTML for club and athlete information\n",
    "        rows_html = \"\"\n",
    "        for _, row in athletes.iterrows():\n",
    "            rows_html += f\"<tr> <td class=\\\"td_name\\\">{row['NAME']}</td> <td>{row['WGT_CAT']}</td> <td class=\\\"checkbox\\\">&#9744;</td> <td>_____</td> <td class=\\\"checkbox\\\">&#9744;</td> <td class=\\\"checkbox\\\">&#9744;</td> <td class=\\\"checkbox\\\">&#9744;</td> <td>_____</td></tr>\"\n",
    "        html_content = template.format(emblem = emblem, fullname= fullname, rows=rows_html)\n",
    "        pdf_content.append(html_content)\n",
    "\n",
    "    # Convert HTML to PDF\n",
    "    pdfkit.from_string(''.join(pdf_content), filename, options=options)\n",
    "\n",
    "if not os.path.exists(\"Output\"):\n",
    "    os.makedirs(\"Output\")\n",
    "    print(\"Output folder does not exist. Generating...\")\n",
    "\n",
    "# Generate PDF for masculine athletes\n",
    "generate_club_pdf(masculine_club_athletes, f'Output/{tournament_code}_masculinos.pdf')\n",
    "\n",
    "# Generate PDF for feminine athletes\n",
    "generate_club_pdf(feminine_club_athletes, f'Output/{tournament_code}_femininos.pdf')\n",
    "\n",
    "# Print the clubs with missing information ( if any )\n",
    "if missing_clubs:\n",
    "    print(f\"Information missing for clubs: {', '.join(missing_clubs)}\")\n",
    "else:\n",
    "    print(\"All club information is available.\")  "
   ]
  }
 ],
 "metadata": {
  "kernelspec": {
   "display_name": "Python 3",
   "language": "python",
   "name": "python3"
  },
  "language_info": {
   "codemirror_mode": {
    "name": "ipython",
    "version": 3
   },
   "file_extension": ".py",
   "mimetype": "text/x-python",
   "name": "python",
   "nbconvert_exporter": "python",
   "pygments_lexer": "ipython3",
   "version": "3.10.12"
  }
 },
 "nbformat": 4,
 "nbformat_minor": 2
}
